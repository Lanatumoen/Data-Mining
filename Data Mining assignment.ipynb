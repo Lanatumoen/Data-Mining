{
  "nbformat": 4,
  "nbformat_minor": 0,
  "metadata": {
    "colab": {
      "provenance": [],
      "toc_visible": true
    },
    "kernelspec": {
      "name": "python3",
      "display_name": "Python 3"
    },
    "language_info": {
      "name": "python"
    }
  },
  "cells": [
    {
      "cell_type": "markdown",
      "source": [
        "# Introduction\n",
        "Together with my classmate Rutger Bles, we had a look into a dataset to predict office occupancy based on factors like temperature, humidity, light, CO2, and humidity-ratio. We both used different models to check the accuracy of this predictive model. Where he used the KNN-model and I used the Logistic Regression Model."
      ],
      "metadata": {
        "id": "N16fCtZSSbez"
      }
    },
    {
      "cell_type": "markdown",
      "source": [
        "## Business Understanding\n",
        "Rutger and I used a dataset to predict office occupancy based on the following factors: temperature, humidity, light, CO2, and humidity-ratio."
      ],
      "metadata": {
        "id": "sVkbCC94aftG"
      }
    },
    {
      "cell_type": "markdown",
      "source": [
        "## Import libraries\n",
        "First load the necassary libraries."
      ],
      "metadata": {
        "id": "6pRac45AtiWu"
      }
    },
    {
      "cell_type": "code",
      "source": [
        "import pandas as pd\n",
        "from sklearn.linear_model import LogisticRegression\n",
        "from sklearn.model_selection import train_test_split\n",
        "from sklearn.metrics import classification_report, accuracy_score"
      ],
      "metadata": {
        "id": "FgMaC8ZZtWMD"
      },
      "execution_count": 1,
      "outputs": []
    },
    {
      "cell_type": "markdown",
      "source": [
        "## Data Understanding\n",
        "Load the dataset and explore it."
      ],
      "metadata": {
        "id": "QhMCURvQrdpS"
      }
    },
    {
      "cell_type": "code",
      "source": [
        "# Read the data\n",
        "url = \"https://raw.githubusercontent.com/HAN-M3DM-Data-Mining/assignments/master/datasets/KNN-occupancy.csv\"\n",
        "data = pd.read_csv(url)\n"
      ],
      "metadata": {
        "id": "lVmBbXgTk9HX"
      },
      "execution_count": 2,
      "outputs": []
    },
    {
      "cell_type": "markdown",
      "source": [
        "## Data Preparation\n",
        "Prepare the dataset for the logistic regression model. The data set is already clean."
      ],
      "metadata": {
        "id": "DN6pSEkmk2-e"
      }
    },
    {
      "cell_type": "code",
      "source": [
        "# Define features (X) and target (y)\n",
        "X = data[['Temperature', 'Humidity', 'Light', 'CO2', 'HumidityRatio']]\n",
        "y = data['Occupancy']\n",
        "\n",
        "# Split the data into training and testing sets (80% train, 20% test)\n",
        "X_train, X_test, y_train, y_test = train_test_split(X, y, test_size=0.2, random_state=42)"
      ],
      "metadata": {
        "id": "Pxkl8JFv44cc"
      },
      "execution_count": 3,
      "outputs": []
    },
    {
      "cell_type": "markdown",
      "source": [
        "## Modeling\n",
        "Training thelogistic regression model"
      ],
      "metadata": {
        "id": "-jDFOiQn444Q"
      }
    },
    {
      "cell_type": "code",
      "source": [
        "# Create a logistic regression model\n",
        "model = LogisticRegression(max_iter=1000)\n",
        "model.fit(X_train, y_train)\n",
        "\n",
        "# Evaluate the model\n",
        "y_pred = model.predict(X_test)"
      ],
      "metadata": {
        "id": "NxIl8thDAgtL"
      },
      "execution_count": 4,
      "outputs": []
    },
    {
      "cell_type": "markdown",
      "source": [
        "## Evaluation and Deployment\n",
        "Check the accuracy of the model that has just been trained."
      ],
      "metadata": {
        "id": "E3GSzQc3AAgq"
      }
    },
    {
      "cell_type": "code",
      "source": [
        "# Calculate accuracy\n",
        "accuracy = accuracy_score(y_test, y_pred)\n",
        "\n",
        "# Generate classification report\n",
        "report = classification_report(y_test, y_pred)\n",
        "\n",
        "print(f'Accuracy: {accuracy}')\n",
        "print('Classification Report:')\n",
        "print(report)\n"
      ],
      "metadata": {
        "colab": {
          "base_uri": "https://localhost:8080/"
        },
        "id": "nOZngikdCpcI",
        "outputId": "35afa530-9873-4608-dd8d-81d26f1ec30a"
      },
      "execution_count": 5,
      "outputs": [
        {
          "output_type": "stream",
          "name": "stdout",
          "text": [
            "Accuracy: 0.9877225291589933\n",
            "Classification Report:\n",
            "              precision    recall  f1-score   support\n",
            "\n",
            "           0       1.00      0.99      0.99      1286\n",
            "           1       0.95      1.00      0.97       343\n",
            "\n",
            "    accuracy                           0.99      1629\n",
            "   macro avg       0.97      0.99      0.98      1629\n",
            "weighted avg       0.99      0.99      0.99      1629\n",
            "\n"
          ]
        }
      ]
    },
    {
      "cell_type": "markdown",
      "source": [
        "The logistic regression model achieved impressive performance with an overall accuracy of 98.77% showing its strong predictive abilities."
      ],
      "metadata": {
        "id": "YY83wZ-unM3L"
      }
    },
    {
      "cell_type": "markdown",
      "source": [
        "# Conclusion\n",
        "In conclusion, our task centered around training both a KNN-model and a Logistic Regression model for occupancy prediction. The results were exceptionally promising, boasting nearly flawless accuracy rates, accompanied by an impressively low count of false positives and false negatives. This underscores the remarkable reliability of the dataset and the remarkable predictive capabilities exhibited by our models."
      ],
      "metadata": {
        "id": "1I0uDdhzssef"
      }
    }
  ]
}